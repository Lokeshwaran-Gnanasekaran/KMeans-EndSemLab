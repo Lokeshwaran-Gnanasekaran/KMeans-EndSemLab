{
 "cells": [
  {
   "cell_type": "markdown",
   "metadata": {},
   "source": [
    "Create a random dataset of 30 elements with x and y variables using random function between 30 to 80 integers for x and 60 to 100 integers for y. Apply K- means clustering to cluster the data into 2 clusters. Plot the graph and display the result. Use Tkinter GUI to Display the Results"
   ]
  },
  {
   "cell_type": "code",
   "execution_count": 1,
   "metadata": {},
   "outputs": [],
   "source": [
    "# import pakages\n",
    "from pandas import DataFrame\n",
    "import random as r\n",
    "\n"
   ]
  },
  {
   "cell_type": "code",
   "execution_count": 2,
   "metadata": {},
   "outputs": [
    {
     "name": "stdout",
     "output_type": "stream",
     "text": [
      "     x    y\n",
      "0   57   96\n",
      "1   35  100\n",
      "2   34   98\n",
      "3   63   82\n",
      "4   31   60\n",
      "5   75   88\n",
      "6   74  100\n",
      "7   38   64\n",
      "8   51   78\n",
      "9   31   60\n",
      "10  35   84\n",
      "11  59   74\n",
      "12  74   88\n",
      "13  40   73\n",
      "14  42   95\n",
      "15  35   85\n",
      "16  65   72\n",
      "17  47   73\n",
      "18  63   91\n",
      "19  60   67\n",
      "20  62   73\n",
      "21  44   83\n",
      "22  77   92\n",
      "23  56   90\n",
      "24  71   89\n",
      "25  69   87\n",
      "26  56   96\n",
      "27  69   76\n",
      "28  71   81\n",
      "29  30   71\n"
     ]
    }
   ],
   "source": [
    "x=[] #create empty lists for storing values\n",
    "y=[]\n",
    "for i in range(30):\n",
    "    x.append(r.randint(30,80)) # append the randomly generated values\n",
    "for i in range(30):\n",
    "    y.append(r.randint(60,100)) #append the randomly generated y values\n",
    "    \n",
    "Data={\n",
    "    'x':x, #create dictionary\n",
    "    'y':y\n",
    "}    \n",
    "    \n",
    "df=DataFrame(Data,columns=['x','y'])# create dataframe\n",
    "print(df)"
   ]
  },
  {
   "cell_type": "code",
   "execution_count": 4,
   "metadata": {},
   "outputs": [
    {
     "name": "stdout",
     "output_type": "stream",
     "text": [
      "[[65.94117647 84.82352941]\n",
      " [37.92307692 78.76923077]]\n"
     ]
    }
   ],
   "source": [
    "import matplotlib.pyplot as plt\n",
    "from sklearn.cluster import KMeans\n",
    "\n",
    "clusters=KMeans(n_clusters=2).fit(df)#applying Kmeans from scikitlearn\n",
    "centroids=clusters.cluster_centers_ # getting centroids\n",
    "print(centroids)"
   ]
  },
  {
   "cell_type": "code",
   "execution_count": 5,
   "metadata": {},
   "outputs": [
    {
     "data": {
      "image/png": "[encoded data removed]",
      "text/plain": [
       "<Figure size 432x288 with 1 Axes>"
      ]
     },
     "metadata": {
      "needs_background": "light"
     },
     "output_type": "display_data"
    }
   ],
   "source": [
    "#plotting the values with lables\n",
    "plt.scatter(df['x'],df['y'],c=clusters.labels_.astype(float),s=50,alpha=0.5)\n",
    "plt.scatter(centroids[:,0],centroids[:,1],c='red',s=50)\n",
    "plt.show()"
   ]
  },
  {
   "cell_type": "markdown",
   "metadata": {},
   "source": [
    "# Tkinter GUI"
   ]
  },
  {
   "cell_type": "code",
   "execution_count": 6,
   "metadata": {},
   "outputs": [],
   "source": [
    "import tkinter as tk\n",
    "from matplotlib.backends.backend_tkagg import FigureCanvasTkAgg"
   ]
  },
  {
   "cell_type": "code",
   "execution_count": 8,
   "metadata": {},
   "outputs": [],
   "source": [
    "root= tk.Tk()\n",
    "canvas1 = tk.Canvas(root, width = 100, height = 100)\n",
    "canvas1.pack()\n",
    "label1 = tk.Label(root, text=centroids, justify = 'center')\n",
    "canvas1.create_window(70, 50, window=label1)\n",
    "figure1 = plt.Figure(figsize=(5,4), dpi=100)\n",
    "ax1 = figure1.add_subplot(111)\n",
    "ax1.scatter(df['x'], df['y'], c= clusters.labels_.astype(float), s=50, alpha=0.5)\n",
    "ax1.scatter(centroids[:, 0], centroids[:, 1], c='red', s=50)\n",
    "scatter1 = FigureCanvasTkAgg(figure1, root) \n",
    "scatter1.get_tk_widget().pack(side=tk.LEFT, fill=tk.BOTH)\n",
    "root.mainloop()"
   ]
  },
  {
   "cell_type": "code",
   "execution_count": null,
   "metadata": {},
   "outputs": [],
   "source": []
  }
 ],
 "metadata": {
  "kernelspec": {
   "display_name": "Python 3",
   "language": "python",
   "name": "python3"
  },
  "language_info": {
   "codemirror_mode": {
    "name": "ipython",
    "version": 3
   },
   "file_extension": ".py",
   "mimetype": "text/x-python",
   "name": "python",
   "nbconvert_exporter": "python",
   "pygments_lexer": "ipython3",
   "version": "3.8.3"
  }
 },
 "nbformat": 4,
 "nbformat_minor": 4
}
